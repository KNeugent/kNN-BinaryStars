{
 "cells": [
  {
   "cell_type": "code",
   "execution_count": 1,
   "metadata": {},
   "outputs": [],
   "source": [
    "import numpy as np\n",
    "import pandas as pd"
   ]
  },
  {
   "cell_type": "code",
   "execution_count": 2,
   "metadata": {},
   "outputs": [],
   "source": [
    "#https://towardsdatascience.com/building-a-k-nearest-neighbors-k-nn-model-with-scikit-learn-51209555453a"
   ]
  },
  {
   "cell_type": "code",
   "execution_count": 3,
   "metadata": {},
   "outputs": [],
   "source": [
    "#UV - 0 = n/a, 1 = bright, 2 = medium, 3 = dim, 4 = none\n",
    "#Classification - 0 = RSG, 1 = binary"
   ]
  },
  {
   "cell_type": "code",
   "execution_count": 4,
   "metadata": {},
   "outputs": [
    {
     "data": {
      "text/html": [
       "<div>\n",
       "<style scoped>\n",
       "    .dataframe tbody tr th:only-of-type {\n",
       "        vertical-align: middle;\n",
       "    }\n",
       "\n",
       "    .dataframe tbody tr th {\n",
       "        vertical-align: top;\n",
       "    }\n",
       "\n",
       "    .dataframe thead th {\n",
       "        text-align: right;\n",
       "    }\n",
       "</style>\n",
       "<table border=\"1\" class=\"dataframe\">\n",
       "  <thead>\n",
       "    <tr style=\"text-align: right;\">\n",
       "      <th></th>\n",
       "      <th>2MASS</th>\n",
       "      <th>logL</th>\n",
       "      <th>Umag</th>\n",
       "      <th>Bmag</th>\n",
       "      <th>Vmag</th>\n",
       "      <th>Imag</th>\n",
       "      <th>U-B</th>\n",
       "      <th>B-V</th>\n",
       "      <th>Classification</th>\n",
       "      <th>UV</th>\n",
       "    </tr>\n",
       "  </thead>\n",
       "  <tbody>\n",
       "    <tr>\n",
       "      <th>0</th>\n",
       "      <td>05254484-6904488</td>\n",
       "      <td>5.020</td>\n",
       "      <td>15.903</td>\n",
       "      <td>15.164</td>\n",
       "      <td>13.516</td>\n",
       "      <td>99.999</td>\n",
       "      <td>0.739</td>\n",
       "      <td>1.648</td>\n",
       "      <td>0</td>\n",
       "      <td>4</td>\n",
       "    </tr>\n",
       "    <tr>\n",
       "      <th>1</th>\n",
       "      <td>05262739-6910559</td>\n",
       "      <td>5.112</td>\n",
       "      <td>16.733</td>\n",
       "      <td>15.474</td>\n",
       "      <td>13.626</td>\n",
       "      <td>99.999</td>\n",
       "      <td>1.259</td>\n",
       "      <td>1.848</td>\n",
       "      <td>0</td>\n",
       "      <td>4</td>\n",
       "    </tr>\n",
       "    <tr>\n",
       "      <th>2</th>\n",
       "      <td>05272673-6900018</td>\n",
       "      <td>4.815</td>\n",
       "      <td>16.323</td>\n",
       "      <td>14.964</td>\n",
       "      <td>13.136</td>\n",
       "      <td>99.999</td>\n",
       "      <td>1.359</td>\n",
       "      <td>1.828</td>\n",
       "      <td>0</td>\n",
       "      <td>0</td>\n",
       "    </tr>\n",
       "    <tr>\n",
       "      <th>3</th>\n",
       "      <td>05335217-6911135</td>\n",
       "      <td>5.083</td>\n",
       "      <td>17.580</td>\n",
       "      <td>16.214</td>\n",
       "      <td>13.807</td>\n",
       "      <td>9.425</td>\n",
       "      <td>1.366</td>\n",
       "      <td>2.407</td>\n",
       "      <td>0</td>\n",
       "      <td>4</td>\n",
       "    </tr>\n",
       "    <tr>\n",
       "      <th>4</th>\n",
       "      <td>05020953-7025017</td>\n",
       "      <td>4.910</td>\n",
       "      <td>16.563</td>\n",
       "      <td>15.164</td>\n",
       "      <td>13.316</td>\n",
       "      <td>10.493</td>\n",
       "      <td>1.399</td>\n",
       "      <td>1.848</td>\n",
       "      <td>0</td>\n",
       "      <td>4</td>\n",
       "    </tr>\n",
       "  </tbody>\n",
       "</table>\n",
       "</div>"
      ],
      "text/plain": [
       "              2MASS   logL    Umag    Bmag    Vmag    Imag    U-B    B-V  \\\n",
       "0  05254484-6904488  5.020  15.903  15.164  13.516  99.999  0.739  1.648   \n",
       "1  05262739-6910559  5.112  16.733  15.474  13.626  99.999  1.259  1.848   \n",
       "2  05272673-6900018  4.815  16.323  14.964  13.136  99.999  1.359  1.828   \n",
       "3  05335217-6911135  5.083  17.580  16.214  13.807   9.425  1.366  2.407   \n",
       "4  05020953-7025017  4.910  16.563  15.164  13.316  10.493  1.399  1.848   \n",
       "\n",
       "   Classification  UV  \n",
       "0               0   4  \n",
       "1               0   4  \n",
       "2               0   0  \n",
       "3               0   4  \n",
       "4               0   4  "
      ]
     },
     "execution_count": 4,
     "metadata": {},
     "output_type": "execute_result"
    }
   ],
   "source": [
    "# read in stars with known classifications\n",
    "known = pd.read_csv(\"Known_v3.csv\")\n",
    "known.head()"
   ]
  },
  {
   "cell_type": "code",
   "execution_count": 5,
   "metadata": {},
   "outputs": [
    {
     "data": {
      "text/html": [
       "<div>\n",
       "<style scoped>\n",
       "    .dataframe tbody tr th:only-of-type {\n",
       "        vertical-align: middle;\n",
       "    }\n",
       "\n",
       "    .dataframe tbody tr th {\n",
       "        vertical-align: top;\n",
       "    }\n",
       "\n",
       "    .dataframe thead th {\n",
       "        text-align: right;\n",
       "    }\n",
       "</style>\n",
       "<table border=\"1\" class=\"dataframe\">\n",
       "  <thead>\n",
       "    <tr style=\"text-align: right;\">\n",
       "      <th></th>\n",
       "      <th>logL</th>\n",
       "      <th>Umag</th>\n",
       "      <th>Bmag</th>\n",
       "      <th>Vmag</th>\n",
       "      <th>Imag</th>\n",
       "      <th>U-B</th>\n",
       "      <th>B-V</th>\n",
       "      <th>UV</th>\n",
       "    </tr>\n",
       "  </thead>\n",
       "  <tbody>\n",
       "    <tr>\n",
       "      <th>0</th>\n",
       "      <td>4.553</td>\n",
       "      <td>99.999</td>\n",
       "      <td>18.119</td>\n",
       "      <td>13.152</td>\n",
       "      <td>9.772</td>\n",
       "      <td>-18.119</td>\n",
       "      <td>4.967</td>\n",
       "      <td>4</td>\n",
       "    </tr>\n",
       "    <tr>\n",
       "      <th>1</th>\n",
       "      <td>4.054</td>\n",
       "      <td>16.285</td>\n",
       "      <td>20.253</td>\n",
       "      <td>14.259</td>\n",
       "      <td>12.780</td>\n",
       "      <td>-3.968</td>\n",
       "      <td>5.994</td>\n",
       "      <td>4</td>\n",
       "    </tr>\n",
       "    <tr>\n",
       "      <th>2</th>\n",
       "      <td>3.752</td>\n",
       "      <td>14.602</td>\n",
       "      <td>18.450</td>\n",
       "      <td>14.877</td>\n",
       "      <td>13.485</td>\n",
       "      <td>-3.848</td>\n",
       "      <td>3.573</td>\n",
       "      <td>3</td>\n",
       "    </tr>\n",
       "    <tr>\n",
       "      <th>3</th>\n",
       "      <td>3.650</td>\n",
       "      <td>15.458</td>\n",
       "      <td>19.261</td>\n",
       "      <td>15.087</td>\n",
       "      <td>13.816</td>\n",
       "      <td>-3.803</td>\n",
       "      <td>4.174</td>\n",
       "      <td>4</td>\n",
       "    </tr>\n",
       "    <tr>\n",
       "      <th>4</th>\n",
       "      <td>4.422</td>\n",
       "      <td>15.643</td>\n",
       "      <td>19.113</td>\n",
       "      <td>13.523</td>\n",
       "      <td>11.844</td>\n",
       "      <td>-3.470</td>\n",
       "      <td>5.590</td>\n",
       "      <td>4</td>\n",
       "    </tr>\n",
       "  </tbody>\n",
       "</table>\n",
       "</div>"
      ],
      "text/plain": [
       "    logL    Umag    Bmag    Vmag    Imag     U-B    B-V  UV\n",
       "0  4.553  99.999  18.119  13.152   9.772 -18.119  4.967   4\n",
       "1  4.054  16.285  20.253  14.259  12.780  -3.968  5.994   4\n",
       "2  3.752  14.602  18.450  14.877  13.485  -3.848  3.573   3\n",
       "3  3.650  15.458  19.261  15.087  13.816  -3.803  4.174   4\n",
       "4  4.422  15.643  19.113  13.523  11.844  -3.470  5.590   4"
      ]
     },
     "execution_count": 5,
     "metadata": {},
     "output_type": "execute_result"
    }
   ],
   "source": [
    "# read in stars with unknown classifications\n",
    "unknown = pd.read_csv(\"Unknown_v3.csv\")\n",
    "unknown2 = unknown.drop(columns=['2MASS'])\n",
    "unknown2.head()"
   ]
  },
  {
   "cell_type": "code",
   "execution_count": 6,
   "metadata": {},
   "outputs": [
    {
     "name": "stdout",
     "output_type": "stream",
     "text": [
      "3697\n",
      "908\n"
     ]
    }
   ],
   "source": [
    "print(len(unknown2))\n",
    "unknown2 = unknown2[unknown2[\"logL\"]>4.2]\n",
    "print(len(unknown2))"
   ]
  },
  {
   "cell_type": "code",
   "execution_count": 7,
   "metadata": {},
   "outputs": [],
   "source": [
    "unknown2 = unknown2.drop(columns=['logL'])"
   ]
  },
  {
   "cell_type": "code",
   "execution_count": 8,
   "metadata": {},
   "outputs": [],
   "source": [
    "from sklearn.preprocessing import MinMaxScaler\n",
    "from sklearn.preprocessing import StandardScaler\n",
    "from sklearn.preprocessing import RobustScaler\n",
    "scaler = RobustScaler()\n",
    "features = [['Umag','Bmag','Vmag','Imag','U-B','B-V','UV']]\n",
    "for feature in features:\n",
    "    known[feature] = scaler.fit_transform(known[feature])\n",
    "    unknown2[feature] = scaler.fit_transform(unknown2[feature])"
   ]
  },
  {
   "cell_type": "code",
   "execution_count": 9,
   "metadata": {},
   "outputs": [],
   "source": [
    "# begin defining classifier. Drop ID, Umag (too often absent), and Classification\n",
    "X = known.drop(columns=['2MASS','Classification','logL'])\n",
    "y = known['Classification'].values"
   ]
  },
  {
   "cell_type": "code",
   "execution_count": 10,
   "metadata": {
    "scrolled": true
   },
   "outputs": [
    {
     "data": {
      "text/plain": [
       "GridSearchCV(cv=15, error_score=nan,\n",
       "             estimator=KNeighborsClassifier(algorithm='auto', leaf_size=30,\n",
       "                                            metric='minkowski',\n",
       "                                            metric_params=None, n_jobs=None,\n",
       "                                            n_neighbors=5, p=2,\n",
       "                                            weights='distance'),\n",
       "             iid='deprecated', n_jobs=None,\n",
       "             param_grid={'leaf_size': [1],\n",
       "                         'n_neighbors': [1, 2, 3, 4, 5, 6, 7, 8, 9, 10, 11, 12,\n",
       "                                         13, 14, 15, 16, 17, 18, 19, 20, 21, 22,\n",
       "                                         23, 24, 25, 26, 27, 28, 29],\n",
       "                         'p': [1, 2]},\n",
       "             pre_dispatch='2*n_jobs', refit=True, return_train_score=False,\n",
       "             scoring=None, verbose=0)"
      ]
     },
     "execution_count": 10,
     "metadata": {},
     "output_type": "execute_result"
    }
   ],
   "source": [
    "from sklearn.model_selection import GridSearchCV\n",
    "from sklearn.neighbors import KNeighborsClassifier\n",
    "#create new a knn model\n",
    "knn2 = KNeighborsClassifier(weights='distance')\n",
    "\n",
    "leaf_size = list(range(1,50))\n",
    "n_neighbors = list(range(1,30))\n",
    "p=[1,2]\n",
    "hyperparameters = dict(leaf_size=[1], n_neighbors=n_neighbors, p=p)\n",
    "\n",
    "#create a dictionary of all values we want to test for n_neighbors\n",
    "#use gridsearch to test all values for n_neighbors\n",
    "knn_gscv = GridSearchCV(knn2, hyperparameters, cv=15)\n",
    "#fit model to data\n",
    "knn_gscv.fit(X, y)"
   ]
  },
  {
   "cell_type": "code",
   "execution_count": 11,
   "metadata": {},
   "outputs": [
    {
     "name": "stdout",
     "output_type": "stream",
     "text": [
      "Best leaf_size: 1\n",
      "Best p: 1\n",
      "Best n_neighbors: 26\n"
     ]
    }
   ],
   "source": [
    "print('Best leaf_size:', knn_gscv.best_estimator_.get_params()['leaf_size'])\n",
    "print('Best p:', knn_gscv.best_estimator_.get_params()['p'])\n",
    "print('Best n_neighbors:', knn_gscv.best_estimator_.get_params()['n_neighbors'])"
   ]
  },
  {
   "cell_type": "code",
   "execution_count": 12,
   "metadata": {},
   "outputs": [
    {
     "data": {
      "text/plain": [
       "{'leaf_size': 1, 'n_neighbors': 26, 'p': 1}"
      ]
     },
     "execution_count": 12,
     "metadata": {},
     "output_type": "execute_result"
    }
   ],
   "source": [
    "#check top performing n_neighbors value\n",
    "knn_gscv.best_params_"
   ]
  },
  {
   "cell_type": "code",
   "execution_count": 13,
   "metadata": {},
   "outputs": [
    {
     "data": {
      "text/plain": [
       "0.9338596491228071"
      ]
     },
     "execution_count": 13,
     "metadata": {},
     "output_type": "execute_result"
    }
   ],
   "source": [
    "#check mean score for the top performing value of n_neighbors\n",
    "knn_gscv.best_score_"
   ]
  },
  {
   "cell_type": "code",
   "execution_count": 14,
   "metadata": {
    "scrolled": true
   },
   "outputs": [
    {
     "name": "stdout",
     "output_type": "stream",
     "text": [
      "[[1.         0.        ]\n",
      " [0.88506101 0.11493899]\n",
      " [1.         0.        ]\n",
      " ...\n",
      " [1.         0.        ]\n",
      " [1.         0.        ]\n",
      " [1.         0.        ]]\n"
     ]
    }
   ],
   "source": [
    "# classifier is knn_gscv\n",
    "predProb = knn_gscv.predict_proba(unknown2)\n",
    "np.savetxt(\"predProb.txt\",predProb,delimiter=',')\n",
    "print(predProb)"
   ]
  },
  {
   "cell_type": "code",
   "execution_count": 15,
   "metadata": {},
   "outputs": [],
   "source": [
    "pred = knn_gscv.predict(unknown2)"
   ]
  },
  {
   "cell_type": "code",
   "execution_count": 16,
   "metadata": {},
   "outputs": [],
   "source": [
    "binG = np.sum(predProb[:,1])\n",
    "binK = len(known[known[\"Classification\"]==1])"
   ]
  },
  {
   "cell_type": "code",
   "execution_count": 17,
   "metadata": {},
   "outputs": [],
   "source": [
    "singG = np.sum(predProb[:,0])\n",
    "singK = len(known[known[\"Classification\"]==0])"
   ]
  },
  {
   "cell_type": "code",
   "execution_count": 18,
   "metadata": {},
   "outputs": [],
   "source": [
    "errorV = len(predProb)-len(predProb)*0.9338596491228071"
   ]
  },
  {
   "cell_type": "code",
   "execution_count": 19,
   "metadata": {},
   "outputs": [],
   "source": [
    "per = (binG+binK)/(singG+singK)*100\n",
    "perM = (binG-errorV+binK)/(singG+errorV+singK)*100\n",
    "perP = (binG+errorV+binK)/(singG-errorV+singK)*100"
   ]
  },
  {
   "cell_type": "code",
   "execution_count": 20,
   "metadata": {},
   "outputs": [
    {
     "data": {
      "text/plain": [
       "21.339346937778426"
      ]
     },
     "execution_count": 20,
     "metadata": {},
     "output_type": "execute_result"
    }
   ],
   "source": [
    "perP"
   ]
  },
  {
   "cell_type": "code",
   "execution_count": 21,
   "metadata": {},
   "outputs": [],
   "source": [
    "import matplotlib.pyplot as plt"
   ]
  },
  {
   "cell_type": "code",
   "execution_count": 37,
   "metadata": {},
   "outputs": [],
   "source": [
    "uMb = [-0.011, -0.144, -0.171, -0.251, -0.268, -0.307, -0.354, -0.631, -0.703, 0.006, 0.269, 0.464, 0.469, 0.743, 0.795, 0.819, 0.829, 0.929, 0.947, 0.984, 1.129, -0.211, 0.299]\n",
    "bMv = [1.198, 1.438, 1.058, 1.282, 1.204, 1.319, 1.049, 0.428, 0.734, 1.258, 1.438, 1.79, 1.248, 1.732, 1.507, 1.578, 1.708, 1.538, 1.725, 1.884, 1.798, 0.888, 1.508]"
   ]
  },
  {
   "cell_type": "code",
   "execution_count": 32,
   "metadata": {},
   "outputs": [],
   "source": [
    "knownOrig = pd.read_csv(\"Known_v3.csv\")\n",
    "unknownOrig = unknown[unknown[\"logL\"]>4.2]"
   ]
  },
  {
   "cell_type": "code",
   "execution_count": 33,
   "metadata": {},
   "outputs": [
    {
     "data": {
      "text/plain": [
       "908"
      ]
     },
     "execution_count": 33,
     "metadata": {},
     "output_type": "execute_result"
    }
   ],
   "source": [
    "len(unknownOrig)"
   ]
  },
  {
   "cell_type": "code",
   "execution_count": 55,
   "metadata": {},
   "outputs": [
    {
     "data": {
      "image/png": "[encoded data removed]",
      "text/plain": [
       "<Figure size 432x288 with 2 Axes>"
      ]
     },
     "metadata": {
      "needs_background": "light"
     },
     "output_type": "display_data"
    }
   ],
   "source": [
    "cm = plt.cm.get_cmap('RdBu')\n",
    "sc = plt.scatter(unknownOrig['U-B'],unknownOrig['B-V'],c=predProb[:,1],cmap=cm,marker='.')\n",
    "plt.colorbar(sc)\n",
    "plt.scatter(uMb,bMv,marker='*',c='black',s=75)\n",
    "plt.xlabel(\"U-B\")\n",
    "plt.ylabel(\"B-V\")\n",
    "plt.xlim([-1.25,1.5])\n",
    "plt.ylim([0,2.25])\n",
    "plt.savefig(\"predHST.eps\")"
   ]
  },
  {
   "cell_type": "code",
   "execution_count": null,
   "metadata": {},
   "outputs": [],
   "source": [
    "cm = plt.cm.get_cmap('RdBu')\n",
    "sc = plt.scatter(knownOrig['U-B'],knownOrig['B-V'],c=knownOrig[\"Classification\"],cmap=cm,marker='.')\n",
    "plt.colorbar(sc)\n",
    "plt.xlabel(\"U-B\")\n",
    "plt.ylabel(\"B-V\")\n",
    "plt.xlim([-1.5,4])\n",
    "plt.ylim([-0.5,3])\n",
    "plt.savefig(\"known.eps\")"
   ]
  },
  {
   "cell_type": "code",
   "execution_count": null,
   "metadata": {},
   "outputs": [],
   "source": [
    "# 2MASS, U,B,V,I,U-B,B-V,Galex, Spectra,Bin Likelihood\n",
    "no = unknown[unknown[\"logL\"] > 4]\n",
    "yes = knownOrig"
   ]
  },
  {
   "cell_type": "code",
   "execution_count": null,
   "metadata": {},
   "outputs": [],
   "source": [
    "np.savetxt(\"predProb.txt\",predProb,delimiter=',')\n",
    "no.to_csv(\"no.txt\")\n",
    "yes.to_csv(\"yes.txt\")"
   ]
  },
  {
   "cell_type": "code",
   "execution_count": null,
   "metadata": {},
   "outputs": [],
   "source": []
  },
  {
   "cell_type": "code",
   "execution_count": null,
   "metadata": {},
   "outputs": [],
   "source": [
    "twoMass = pd.read_csv(\"2mass.csv\")"
   ]
  },
  {
   "cell_type": "code",
   "execution_count": null,
   "metadata": {},
   "outputs": [],
   "source": [
    "no2mass = pd.merge(twoMass, no, on='2MASS')\n",
    "yes2mass = pd.merge(twoMass, yes, on='2MASS')"
   ]
  },
  {
   "cell_type": "code",
   "execution_count": null,
   "metadata": {},
   "outputs": [],
   "source": [
    "twoMass"
   ]
  },
  {
   "cell_type": "code",
   "execution_count": null,
   "metadata": {},
   "outputs": [],
   "source": [
    "plt.plot(no2mass[\"J-K\"],no2mass[\"K\"],'ro')\n",
    "plt.plot(yes2mass[\"J-K\"],yes2mass[\"K\"],'bo')\n",
    "plt.ylim([11,6])\n",
    "plt.show()"
   ]
  },
  {
   "cell_type": "code",
   "execution_count": null,
   "metadata": {},
   "outputs": [],
   "source": [
    "len(yes2mass[yes2mass[\"K\"] > 1.0])/len(no2mass[no2mass[\"J-K\"] < 1.0])"
   ]
  },
  {
   "cell_type": "code",
   "execution_count": null,
   "metadata": {},
   "outputs": [],
   "source": [
    "len(yes2mass[yes2mass[\"J-K\"] > 1.2])/len(no2mass[no2mass[\"J-K\"] > 1.2])"
   ]
  },
  {
   "cell_type": "code",
   "execution_count": null,
   "metadata": {},
   "outputs": [],
   "source": [
    "twoMassProp = pd.read_csv(\"2massProps.csv\")"
   ]
  },
  {
   "cell_type": "code",
   "execution_count": null,
   "metadata": {},
   "outputs": [],
   "source": [
    "no2mass = pd.merge(twoMassProp, no, on='2MASS')\n",
    "yes2mass = pd.merge(twoMassProp, yes, on='2MASS')"
   ]
  },
  {
   "cell_type": "code",
   "execution_count": null,
   "metadata": {},
   "outputs": [],
   "source": [
    "no2massR = ((5777/no2mass[\"Teff\"])**2)*(10**no2mass[\"logL_x\"])**(1/2)\n",
    "yes2massR = ((5777/yes2mass[\"Teff\"])**2)*(10**yes2mass[\"logL_x\"])**(1/2)"
   ]
  },
  {
   "cell_type": "code",
   "execution_count": null,
   "metadata": {},
   "outputs": [],
   "source": [
    "len(yes2massR[yes2massR < 300])/len(no2massR[no2massR < 300])"
   ]
  },
  {
   "cell_type": "code",
   "execution_count": null,
   "metadata": {},
   "outputs": [],
   "source": [
    "len(yes2massR[yes2massR > 300])/len(no2massR[no2massR > 300])"
   ]
  },
  {
   "cell_type": "code",
   "execution_count": null,
   "metadata": {},
   "outputs": [],
   "source": [
    "len(no2massR[no2massR < 500])"
   ]
  },
  {
   "cell_type": "code",
   "execution_count": null,
   "metadata": {},
   "outputs": [],
   "source": [
    "len(no2massR[no2massR > 500])"
   ]
  },
  {
   "cell_type": "markdown",
   "metadata": {},
   "source": [
    "### "
   ]
  },
  {
   "cell_type": "code",
   "execution_count": null,
   "metadata": {},
   "outputs": [],
   "source": [
    "yesSpec = yes2mass[yes2mass[\"Classification\"] == 1]\n",
    "noSpec = yes2mass[yes2mass[\"Classification\"] == 0]"
   ]
  },
  {
   "cell_type": "code",
   "execution_count": null,
   "metadata": {},
   "outputs": [],
   "source": [
    "kNNresult = no2mass"
   ]
  },
  {
   "cell_type": "code",
   "execution_count": null,
   "metadata": {},
   "outputs": [],
   "source": [
    "cm = plt.cm.get_cmap('RdBu')\n",
    "plt.scatter(kNNresult[\"Teff\"],kNNresult[\"logL_x\"],c=predProb[:,1],cmap=cm,marker='.')\n",
    "plt.scatter(noSpec[\"Teff\"],noSpec[\"logL_x\"],color=\"#67001f\",marker=\".\")\n",
    "plt.scatter(yesSpec[\"Teff\"],yesSpec[\"logL_x\"],color=\"#053061\",marker=\".\")\n",
    "plt.xlabel(r\"$T_{\\rm{eff}} (K)$\")\n",
    "plt.ylabel(\"$\\log~L/L_{\\odot}$\")\n",
    "plt.colorbar(sc)\n",
    "plt.xlim([4350,3400])\n",
    "plt.ylim([4.0,5.7])\n",
    "#plt.show()\n",
    "plt.savefig(\"HRD.eps\")"
   ]
  },
  {
   "cell_type": "code",
   "execution_count": null,
   "metadata": {},
   "outputs": [],
   "source": [
    "from pylab import *\n",
    "\n",
    "cmap = cm.get_cmap('RdBu', 3)    # PiYG\n",
    "\n",
    "for i in range(cmap.N):\n",
    "    rgb = cmap(i)[:3] # will return rgba, we take only first 3 so we get rgb\n",
    "    print(matplotlib.colors.rgb2hex(rgb))"
   ]
  },
  {
   "cell_type": "code",
   "execution_count": null,
   "metadata": {},
   "outputs": [],
   "source": []
  }
 ],
 "metadata": {
  "kernelspec": {
   "display_name": "Python 3",
   "language": "python",
   "name": "python3"
  },
  "language_info": {
   "codemirror_mode": {
    "name": "ipython",
    "version": 3
   },
   "file_extension": ".py",
   "mimetype": "text/x-python",
   "name": "python",
   "nbconvert_exporter": "python",
   "pygments_lexer": "ipython3",
   "version": "3.7.3"
  }
 },
 "nbformat": 4,
 "nbformat_minor": 4
}
